{
 "cells": [
  {
   "cell_type": "code",
   "execution_count": 1,
   "metadata": {},
   "outputs": [],
   "source": [
    "# Importing required libraries \n",
    "# Keras\n",
    "from keras.models import model_from_json\n",
    "\n",
    "# Other  \n",
    "import numpy as np\n",
    "import matplotlib.pyplot as plt\n",
    "import tensorflow as tf\n",
    "import os\n",
    "import pickle\n",
    "import wave\n",
    "import IPython.display as ipd  # To play sound in the notebook\n",
    "import python_speech_features as ps\n",
    "import pyaudio\n",
    "import math\n",
    "import datetime\n",
    "from concurrent.futures import ThreadPoolExecutor\n",
    "import time\n",
    "import struct"
   ]
  },
  {
   "cell_type": "code",
   "execution_count": 2,
   "metadata": {},
   "outputs": [],
   "source": [
    "class emotionAnalizer():\n",
    "    def __init__(self):\n",
    "        super().__init__()\n",
    "        self.alive = True\n",
    "        self.extractMellalive = False\n",
    "        #inputAudioに必要な初期化\n",
    "        self.CHUNK=1024\n",
    "        self.RATE = 44100\n",
    "        self.block = 100\n",
    "        self.wave = np.empty((self.block,1024),int)\n",
    "        self.audio = pyaudio.PyAudio()\n",
    "        self.stream=self.audio.open(format = pyaudio.paInt16,\n",
    "            channels = 1,\n",
    "            rate = self.RATE,\n",
    "            frames_per_buffer = self.CHUNK,\n",
    "            input = True,\n",
    "            output=True)\n",
    "        #detectAudioに必要な初期化\n",
    "        self.spaceleng = 10\n",
    "        self.voiceleng = 20\n",
    "        self.sokuonleng = 3\n",
    "        self.winlen = 0.08\n",
    "        self.winstep = 0.016\n",
    "        self.nfilt = 40 #周波数の分解能\n",
    "        self.addr = 0 #声を検出するアドレスを指定(どこのアドレスで声の検出を行うか指定)\n",
    "        self.ave = 0\n",
    "        self.preave = 0\n",
    "        self.diff = 0\n",
    "        self.silent = 0\n",
    "        self.voice  = 0\n",
    "        self.standby = -1\n",
    "        self.isVoice = 0\n",
    "        self.voiceOnWave = np.empty((0,2,2), int)\n",
    "        #extractMellに必要な初期化\n",
    "        self.pastVoiceOnWaveLeng = 0\n",
    "        self.lastwaddr = 0\n",
    "        self.features = np.zeros((0, 300, self.nfilt, 3))\n",
    "        self.eps = 1e-5\n",
    "        #emotionRecognitionに必要な初期化\n",
    "        self.pastFeaturesLeng = 0\n",
    "        self.emotionResult = np.zeros((0,14))\n",
    "        # loading json and model architecture \n",
    "        json_file = open('model_json.json', 'r')\n",
    "        loaded_model_json = json_file.read()\n",
    "        json_file.close()\n",
    "        self.loaded_model = model_from_json(loaded_model_json)\n",
    "        # load weights into new model\n",
    "        self.loaded_model.load_weights(\"saved_models/Emotion_Model.h5\")\n",
    "        print(\"Loaded model from disk\")\n",
    "\n",
    "    def inputAudio(self):\n",
    "        with ThreadPoolExecutor(max_workers=8) as executor:\n",
    "            while self.alive:\n",
    "                #time.sleep(0.001)\n",
    "                ret = self.stream.read(self.CHUNK, exception_on_overflow = False)\n",
    "                self.stream.write(ret)\n",
    "                if self.addr % self.block==0:\n",
    "                    self.wave = np.append(self.wave, np.empty((self.block,1024),int),0)\n",
    "                self.wave[self.addr] = np.expand_dims(np.frombuffer(ret, dtype=\"int16\"),0)\n",
    "                self.detectVoice()\n",
    "                self.extractMell()\n",
    "                if self.features.shape[0] > self.pastFeaturesLeng:\n",
    "                    self.pastFeaturesLeng = self.features.shape[0]\n",
    "                    executor.submit(self.emotionRecognition, self.voiceOnWave[-1,0,0])\n",
    "                self.addr += 1\n",
    "    \n",
    "    def detectVoice(self):\n",
    "        #print(\"detectVoice start\")\n",
    "        self.preave = self.ave\n",
    "        self.ave = np.mean(np.abs(self.wave[self.addr]))\n",
    "        self.diff = self.ave - self.preave\n",
    "        #声の部分か判定する。\n",
    "        if np.abs(self.diff) > 100:\n",
    "            self.silent = 0\n",
    "            self.voice  = self.sokuonleng\n",
    "        else:\n",
    "            self.silent += 1\n",
    "            self.voice  -= 1 if self.voice > 0 else 0\n",
    "        #発話していないなら\n",
    "        if self.isVoice == 0:\n",
    "            if self.standby == -1:\n",
    "                #スタンバイでない時、音を検知したら、スタンバイする(その時の時間を覚えておく)。\n",
    "                if self.voice == self.sokuonleng:\n",
    "                    self.standby = self.addr - 1 #発声する瞬間も大事な特微量なので、現在のアドレスより1コマ過去のものから判定開始\n",
    "            else:\n",
    "                if self.addr-self.standby >= self.voiceleng:\n",
    "                    #voiceleng以上発話していれば、isRecをアクティブに。\n",
    "                    if self.voice != 0:\n",
    "                        print(\"Record start{}\".format(self.standby, self.addr))\n",
    "                        self.isVoice = 1\n",
    "                        self.voiceOnWave = np.append(self.voiceOnWave, np.zeros((1,2,2), int),0)\n",
    "                        self.voiceOnWave[-1,0,0] = self.standby\n",
    "                    #voicelengより短い発話だったら、スタンバイ解除\n",
    "                    elif self.voice == 0:\n",
    "                        self.standby = -1\n",
    "        #発話しているなら\n",
    "        else:\n",
    "            #もしも、一定時間以上静寂なら、isRecをディスアクティブに。\n",
    "            if self.silent > self.spaceleng or self.alive == False:\n",
    "                #print(\"--->{}\".format(self.addr-self.spaceleng, self.addr))\n",
    "                self.isVoice = 0\n",
    "                self.standby = -1\n",
    "                self.voiceOnWave[-1,1,0] = self.addr - self.spaceleng + 3 #+3して発話後に若干余白をとる。\n",
    "        #print(\"detectVoice end\")\n",
    "            \n",
    "    def mellCepstrum(self, start, end=None):\n",
    "        #Mellの特微量を生成\n",
    "        #print(\"mellCepstrum start\")\n",
    "        if end != None:\n",
    "            mel_spec = ps.logfbank(self.wave[start:end].reshape(-1), samplerate=self.RATE, winlen=self.winlen, winstep=self.winstep, nfilt=self.nfilt, nfft=int(self.winlen*self.RATE))\n",
    "        else:\n",
    "            mel_spec = ps.logfbank(self.wave[start].reshape(-1), samplerate=self.RATE, winlen=self.winlen, winstep=self.winstep, nfilt=self.nfilt, nfft=int(self.winlen*self.RATE))\n",
    "        #deltaの特微量を生成\n",
    "        delta1= ps.delta(mel_spec, 4)\n",
    "        #delta-deltaの特微量を生成\n",
    "        delta2 = ps.delta(delta1, 4)\n",
    "        mean1 = np.mean(mel_spec)\n",
    "        mean2 = np.mean(delta1)\n",
    "        mean3 = np.mean(delta2)\n",
    "        std1 = np.std(mel_spec)\n",
    "        std2 = np.std(delta1)\n",
    "        std3 = np.std(delta2)\n",
    "        procd = np.empty((mel_spec.shape[0], self.nfilt, 3))\n",
    "        procd[:,:,0] = (mel_spec - mean1)/(std1+self.eps) #mel_spec#\n",
    "        procd[:,:,1] = (delta1 - mean2)/(std2+self.eps) #delta1#\n",
    "        procd[:,:,2] = (delta2 - mean3)/(std3+self.eps) #delta2#\n",
    "        #print(\"mellCepstrum end\")\n",
    "        return procd\n",
    "    \n",
    "    def makeFeatures(self, start, end=None):\n",
    "        tmp = self.mellCepstrum(start, end)\n",
    "        self.features = np.append(self.features, np.zeros((1, 300, self.nfilt, 3)),0) \n",
    "        term = 300 if tmp.shape[0] >= 300 else tmp.shape[0]\n",
    "        #print(tmp[:term].shape)\n",
    "        self.features[-1,:term] = tmp[:term]\n",
    "        self.lastwaddr = self.addr\n",
    "    \n",
    "    def mellshape(self, arrayelem=1):\n",
    "        datalen=self.CHUNK/self.RATE\n",
    "        shape=(datalen*arrayelem-self.winlen)/self.winstep+1 if arrayelem > 1 else 1\n",
    "        return math.ceil(shape)\n",
    "    \n",
    "    def extractMell(self):\n",
    "        #voiceOnWave上に新しい声が登録されたら\n",
    "        if self.voiceOnWave.shape[0] > self.pastVoiceOnWaveLeng:\n",
    "            #isVoiceがアクティブになった直後なら\n",
    "            if self.extractMellalive == False and self.alive == True: \n",
    "                #print(\"init.\")\n",
    "                self.lastwaddr = self.voiceOnWave[-1,0,0]\n",
    "                self.voiceOnWave[-1,0,1] = self.features.shape[0]\n",
    "                self.extractMellalive = True\n",
    "            #メル周波数ケプストラムの変換後のフレームが300フレーム以上になったら\n",
    "            if self.mellshape(self.addr-self.lastwaddr) >= 300 and self.alive == True:\n",
    "                self.makeFeatures(self.lastwaddr, self.addr)\n",
    "                #print(\"Saved mell.\")\n",
    "            #isVoiceがディアクティブになったら(レコーディングが終了したら)\n",
    "            elif self.voiceOnWave[-1,1,0] > 0 or self.alive == False:\n",
    "                #終了シーケンスを実行\n",
    "                self.voiceOnWave[-1,1,1] = self.features.shape[0]+1 #バックグランド処理でいつfeaturesがappendされるか分からないので、特微量を作るより先に、終了シーケンスを実行する。\n",
    "                self.pastVoiceOnWaveLeng = self.voiceOnWave.shape[0]\n",
    "                self.extractMellalive = False\n",
    "                #300フレームに満たないが、0パディングして特微量を生成\n",
    "                self.makeFeatures(self.lastwaddr, self.addr)\n",
    "                # print(\"Saved mell(end).\")\n",
    "    \n",
    "    def inverselabel(self, value):\n",
    "        tag = {'female_angry':0, 'female_disgust':1, 'female_fear':2, 'female_happy':3,\n",
    "     'female_neutral':4, 'female_sad':5, 'female_surprise':6, 'male_angry':7,\n",
    "     'male_disgust':8, 'male_fear':9, 'male_happy':10, 'male_neutral':11, 'male_sad':12,\n",
    "     'male_surprise':13}\n",
    "        return [k for k, v in tag.items() if v == value][0]\n",
    "    \n",
    "    def emotionRecognition(self,index):\n",
    "        preds = self.loaded_model.predict_step(np.expand_dims(self.features[-1],axis=0))\n",
    "        self.emotionResult = np.append(self.emotionResult, preds, 0)\n",
    "        print(\"{}:{}\".format(index,self.inverselabel(self.emotionResult[-1].argmax())))\n",
    "        \n",
    "    def terminate(self):\n",
    "        self.stream.stop_stream()\n",
    "        self.stream.close()\n",
    "    \n",
    "    def run(self):\n",
    "        self.inputAudio()\n",
    "        self.terminate()"
   ]
  },
  {
   "cell_type": "code",
   "execution_count": 3,
   "metadata": {},
   "outputs": [
    {
     "name": "stdout",
     "output_type": "stream",
     "text": [
      "Loaded model from disk\n",
      "Record start300\n",
      "300:male_angry\n",
      "Record start754\n",
      "754:male_neutral\n",
      "Record start944\n",
      "944:male_neutral\n",
      "Record start1069\n",
      "1069:male_happy\n",
      "Record start1250\n",
      "1250:male_disgust\n",
      "Record start1404\n",
      "1404:male_disgust\n",
      "Record start1690\n",
      "1690:male_neutral\n",
      "Record start2317\n",
      "2317:male_happy\n",
      "Record start2478\n",
      "2478:female_disgust\n",
      "Record start2849\n",
      "2849:male_happy\n",
      "Record start3060\n",
      "3060:male_happy\n",
      "Record start3710\n",
      "3710:male_neutral\n",
      "Record start4346\n",
      "4346:male_disgust\n",
      "Realtime emotion recognition stoped.\n"
     ]
    }
   ],
   "source": [
    "eAn = emotionAnalizer()\n",
    "try:\n",
    "    eAn.run()\n",
    "except KeyboardInterrupt:\n",
    "    eAn.alive = False\n",
    "    print(\"Realtime emotion recognition stoped.\")"
   ]
  },
  {
   "cell_type": "code",
   "execution_count": 4,
   "metadata": {},
   "outputs": [
    {
     "name": "stdout",
     "output_type": "stream",
     "text": [
      "(13, 14)\n"
     ]
    }
   ],
   "source": [
    "print(eAn.emotionResult.shape)\n",
    "emotion = np.empty((0,7))\n",
    "for emoresult in eAn.emotionResult:\n",
    "    maxEmo = emoresult.argmax(axis=0)\n",
    "    if maxEmo < 7:\n",
    "        emotion = np.append(emotion, np.expand_dims(emoresult[:7],axis=0),0)\n",
    "    else:\n",
    "        emotion = np.append(emotion, np.expand_dims(emoresult[7:],axis=0),0)"
   ]
  },
  {
   "cell_type": "code",
   "execution_count": 5,
   "metadata": {},
   "outputs": [],
   "source": [
    "#print(eAn.voiceOnWave)\n",
    "time_axis = np.empty(0,int)\n",
    "for elem in eAn.voiceOnWave:\n",
    "    for num in range(elem[1,1]-elem[0,1]):\n",
    "        time_axis = np.append(time_axis, elem[0,0]+(num*76))\n",
    "    if elem[1,1]-elem[0,1] > 0:\n",
    "        time_axis[-1]=elem[1,0]"
   ]
  },
  {
   "cell_type": "code",
   "execution_count": 6,
   "metadata": {},
   "outputs": [
    {
     "data": {
      "text/plain": [
       "<matplotlib.legend.Legend at 0x13a0cd590>"
      ]
     },
     "execution_count": 6,
     "metadata": {},
     "output_type": "execute_result"
    },
    {
     "data": {
      "image/png": "[encoded data removed]",
      "text/plain": [
       "<Figure size 432x288 with 1 Axes>"
      ]
     },
     "metadata": {
      "needs_background": "light"
     },
     "output_type": "display_data"
    }
   ],
   "source": [
    "legend_list = [\"Angry\", \"Disgust\", \"Fear\", \"Happy\", \"Natural\", \"Sad\", \"Surprise\"]\n",
    "linecolor = [\"orangered\", \"navy\", \"olive\", \"orange\", \"yellowgreen\", \"royalblue\", \"violet\"]\n",
    "for start, end in  zip(eAn.voiceOnWave[:,0,1],eAn.voiceOnWave[:,1,1]):\n",
    "    for i, name in zip(range(len(legend_list)),legend_list):\n",
    "        plt.plot(time_axis[start:end], emotion[start:end,i], label=name,marker='.', color=linecolor[i])\n",
    "    legend_list = [\"\", \"\", \"\", \"\", \"\", \"\", \"\"]\n",
    "plt.legend(bbox_to_anchor=(1.05, 1), loc='upper left')"
   ]
  },
  {
   "cell_type": "markdown",
   "metadata": {},
   "source": [
    "### 保存用コマンド"
   ]
  },
  {
   "cell_type": "code",
   "execution_count": 7,
   "metadata": {},
   "outputs": [],
   "source": [
    "dt_now = datetime.datetime.now().strftime('%Y-%m-%d-%H-%M-%S')\n",
    "os.makedirs(\"output\", exist_ok=True)\n",
    "os.makedirs(\"output/\"+str(dt_now), exist_ok=True)"
   ]
  },
  {
   "cell_type": "code",
   "execution_count": 8,
   "metadata": {},
   "outputs": [
    {
     "data": {
      "image/png": "[encoded data removed]",
      "text/plain": [
       "<Figure size 432x288 with 1 Axes>"
      ]
     },
     "metadata": {
      "needs_background": "light"
     },
     "output_type": "display_data"
    }
   ],
   "source": [
    "legend_list = [\"Angry\", \"Disgust\", \"Fear\", \"Happy\", \"Natural\", \"Sad\", \"Surprise\"]\n",
    "linecolor = [\"orangered\", \"navy\", \"olive\", \"orange\", \"yellowgreen\", \"royalblue\", \"violet\"]\n",
    "for start, end in  zip(eAn.voiceOnWave[:,0,1],eAn.voiceOnWave[:,1,1]):\n",
    "    for i, name in zip(range(len(legend_list)),legend_list):\n",
    "        plt.plot(time_axis[start:end], emotion[start:end,i], label=name,marker='.', color=linecolor[i])\n",
    "    legend_list = [\"\", \"\", \"\", \"\", \"\", \"\", \"\"]\n",
    "plt.legend(bbox_to_anchor=(1.05, 1), loc='upper left')\n",
    "filename = \"output/\"+str(dt_now)+\"/\"+\"graph.png\"\n",
    "plt.savefig(filename)"
   ]
  },
  {
   "cell_type": "code",
   "execution_count": 9,
   "metadata": {},
   "outputs": [],
   "source": [
    "for no in eAn.voiceOnWave:\n",
    "    Y=eAn.wave[no[0,0]:no[1,0]].reshape(-1)\n",
    "    outd = struct.pack(\"h\" * len(Y), *Y)\n",
    "    filename = \"output/\"+str(dt_now)+ \"/trimAt\" + str(no[0,0])+\"-\"+str(no[1,0]) + \".wav\"\n",
    "    # 書き出し\n",
    "    with wave.open(filename, 'w') as ww:\n",
    "        ww.setnchannels(1)\n",
    "        ww.setsampwidth(2)\n",
    "        ww.setframerate(44100)\n",
    "        ww.writeframes(outd)"
   ]
  },
  {
   "cell_type": "code",
   "execution_count": 10,
   "metadata": {},
   "outputs": [],
   "source": [
    "Y=eAn.wave.reshape(-1)\n",
    "outd = struct.pack(\"h\" * len(Y), *Y)\n",
    "filename = \"output/\"+str(dt_now)+ \"/All.wav\"\n",
    "# 書き出し\n",
    "with wave.open(filename, 'w') as ww:\n",
    "    ww.setnchannels(1)\n",
    "    ww.setsampwidth(2)\n",
    "    ww.setframerate(44100)\n",
    "    ww.writeframes(outd)"
   ]
  },
  {
   "cell_type": "code",
   "execution_count": null,
   "metadata": {},
   "outputs": [],
   "source": []
  }
 ],
 "metadata": {
  "kernelspec": {
   "display_name": "Python 3",
   "language": "python",
   "name": "python3"
  },
  "language_info": {
   "codemirror_mode": {
    "name": "ipython",
    "version": 3
   },
   "file_extension": ".py",
   "mimetype": "text/x-python",
   "name": "python",
   "nbconvert_exporter": "python",
   "pygments_lexer": "ipython3",
   "version": "3.7.9"
  }
 },
 "nbformat": 4,
 "nbformat_minor": 4
}
